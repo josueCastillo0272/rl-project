{
 "cells": [
  {
   "cell_type": "code",
   "execution_count": 1,
   "id": "120b47d3",
   "metadata": {},
   "outputs": [
    {
     "name": "stderr",
     "output_type": "stream",
     "text": [
      "\u001b[32m2025-07-31 21:04:11.673\u001b[0m | \u001b[1mINFO    \u001b[0m | \u001b[36mguitarProject.config\u001b[0m:\u001b[36m<module>\u001b[0m:\u001b[36m11\u001b[0m - \u001b[1mPROJ_ROOT path is: /Users/dannelllopez/RLMusic/rl-project\u001b[0m\n"
     ]
    },
    {
     "ename": "ImportError",
     "evalue": "dlopen(/Users/dannelllopez/miniconda3/envs/rl-project/lib/python3.11/site-packages/pyo/_pyo.cpython-311-darwin.so, 0x0002): Library not loaded: /opt/homebrew/opt/flac/lib/libFLAC.12.dylib\n  Referenced from: <E6408A3F-C3F8-30CD-906D-54CA42ADE3E5> /Users/dannelllopez/miniconda3/envs/rl-project/lib/python3.11/site-packages/pyo/libsndfile.1.dylib\n  Reason: tried: '/opt/homebrew/opt/flac/lib/libFLAC.12.dylib' (no such file), '/System/Volumes/Preboot/Cryptexes/OS/opt/homebrew/opt/flac/lib/libFLAC.12.dylib' (no such file), '/opt/homebrew/opt/flac/lib/libFLAC.12.dylib' (no such file), '/usr/local/lib/libFLAC.12.dylib' (no such file), '/usr/lib/libFLAC.12.dylib' (no such file, not in dyld cache), '/opt/homebrew/Cellar/flac/1.5.0/lib/libFLAC.12.dylib' (no such file), '/System/Volumes/Preboot/Cryptexes/OS/opt/homebrew/Cellar/flac/1.5.0/lib/libFLAC.12.dylib' (no such file), '/opt/homebrew/Cellar/flac/1.5.0/lib/libFLAC.12.dylib' (no such file), '/usr/local/lib/libFLAC.12.dylib' (no such file), '/usr/lib/libFLAC.12.dylib' (no such file, not in dyld cache)",
     "output_type": "error",
     "traceback": [
      "\u001b[31m---------------------------------------------------------------------------\u001b[39m",
      "\u001b[31mImportError\u001b[39m                               Traceback (most recent call last)",
      "\u001b[36mCell\u001b[39m\u001b[36m \u001b[39m\u001b[32mIn[1]\u001b[39m\u001b[32m, line 5\u001b[39m\n\u001b[32m      3\u001b[39m project_root = Path().resolve().parent\n\u001b[32m      4\u001b[39m sys.path.append(\u001b[38;5;28mstr\u001b[39m(project_root))\n\u001b[32m----> \u001b[39m\u001b[32m5\u001b[39m \u001b[38;5;28;01mimport\u001b[39;00m\u001b[38;5;250m \u001b[39m\u001b[34;01mguitarProject\u001b[39;00m\u001b[34;01m.\u001b[39;00m\u001b[34;01minput\u001b[39;00m\u001b[34;01m.\u001b[39;00m\u001b[34;01mguitar_input\u001b[39;00m\u001b[38;5;250m \u001b[39m\u001b[38;5;28;01mas\u001b[39;00m\u001b[38;5;250m \u001b[39m\u001b[34;01mgi\u001b[39;00m\n\u001b[32m      8\u001b[39m guitar_input = gi.GuitarInputSequence()\n\u001b[32m      9\u001b[39m guitar_input.add_action(gi.GuitarAction(string=\u001b[32m1\u001b[39m, fret=\u001b[32m0\u001b[39m, action_type=gi.GuitarActionType.PICK, time=\u001b[32m0.0\u001b[39m))\n",
      "\u001b[36mFile \u001b[39m\u001b[32m~/RLMusic/rl-project/guitarProject/input/guitar_input.py:5\u001b[39m\n\u001b[32m      2\u001b[39m \u001b[38;5;28;01mfrom\u001b[39;00m\u001b[38;5;250m \u001b[39m\u001b[34;01menum\u001b[39;00m\u001b[38;5;250m \u001b[39m\u001b[38;5;28;01mimport\u001b[39;00m Enum, auto\n\u001b[32m      3\u001b[39m \u001b[38;5;28;01mfrom\u001b[39;00m\u001b[38;5;250m \u001b[39m\u001b[34;01mtyping\u001b[39;00m\u001b[38;5;250m \u001b[39m\u001b[38;5;28;01mimport\u001b[39;00m List, Optional\n\u001b[32m----> \u001b[39m\u001b[32m5\u001b[39m \u001b[38;5;28;01mimport\u001b[39;00m\u001b[38;5;250m \u001b[39m\u001b[34;01mpyo\u001b[39;00m\n\u001b[32m      7\u001b[39m \u001b[38;5;28;01mfrom\u001b[39;00m\u001b[38;5;250m \u001b[39m\u001b[34;01m.\u001b[39;00m\u001b[34;01mpedals\u001b[39;00m\u001b[38;5;250m \u001b[39m\u001b[38;5;28;01mimport\u001b[39;00m Pedal\n\u001b[32m     10\u001b[39m \u001b[38;5;28;01mclass\u001b[39;00m\u001b[38;5;250m \u001b[39m\u001b[34;01mGuitarActionType\u001b[39;00m(Enum):\n",
      "\u001b[36mFile \u001b[39m\u001b[32m~/miniconda3/envs/rl-project/lib/python3.11/site-packages/pyo/__init__.py:27\u001b[39m\n\u001b[32m     24\u001b[39m     \u001b[38;5;28;01mfrom\u001b[39;00m\u001b[38;5;250m \u001b[39m\u001b[34;01m.\u001b[39;00m\u001b[38;5;250m \u001b[39m\u001b[38;5;28;01mimport\u001b[39;00m _linux_wheel_fix_symlinks\n\u001b[32m     26\u001b[39m \u001b[38;5;28;01mfrom\u001b[39;00m\u001b[38;5;250m \u001b[39m\u001b[34;01m.\u001b[39;00m\u001b[34;01mlib\u001b[39;00m\u001b[34;01m.\u001b[39;00m\u001b[34;01m_maps\u001b[39;00m\u001b[38;5;250m \u001b[39m\u001b[38;5;28;01mimport\u001b[39;00m *\n\u001b[32m---> \u001b[39m\u001b[32m27\u001b[39m \u001b[38;5;28;01mfrom\u001b[39;00m\u001b[38;5;250m \u001b[39m\u001b[34;01m.\u001b[39;00m\u001b[34;01mlib\u001b[39;00m\u001b[38;5;250m \u001b[39m\u001b[38;5;28;01mimport\u001b[39;00m analysis \u001b[38;5;28;01mas\u001b[39;00m analysis\n\u001b[32m     28\u001b[39m \u001b[38;5;28;01mfrom\u001b[39;00m\u001b[38;5;250m \u001b[39m\u001b[34;01m.\u001b[39;00m\u001b[34;01mlib\u001b[39;00m\u001b[34;01m.\u001b[39;00m\u001b[34;01manalysis\u001b[39;00m\u001b[38;5;250m \u001b[39m\u001b[38;5;28;01mimport\u001b[39;00m *\n\u001b[32m     29\u001b[39m \u001b[38;5;28;01mfrom\u001b[39;00m\u001b[38;5;250m \u001b[39m\u001b[34;01m.\u001b[39;00m\u001b[34;01mlib\u001b[39;00m\u001b[38;5;250m \u001b[39m\u001b[38;5;28;01mimport\u001b[39;00m controls \u001b[38;5;28;01mas\u001b[39;00m controls\n",
      "\u001b[36mFile \u001b[39m\u001b[32m~/miniconda3/envs/rl-project/lib/python3.11/site-packages/pyo/lib/analysis.py:30\u001b[39m\n\u001b[32m      1\u001b[39m \u001b[33;03m\"\"\"\u001b[39;00m\n\u001b[32m      2\u001b[39m \u001b[33;03mTools to analyze audio signals.\u001b[39;00m\n\u001b[32m      3\u001b[39m \n\u001b[32m   (...)\u001b[39m\u001b[32m      7\u001b[39m \n\u001b[32m      8\u001b[39m \u001b[33;03m\"\"\"\u001b[39;00m\n\u001b[32m     10\u001b[39m \u001b[33;03m\"\"\"\u001b[39;00m\n\u001b[32m     11\u001b[39m \u001b[33;03mCopyright 2009-2015 Olivier Belanger\u001b[39;00m\n\u001b[32m     12\u001b[39m \n\u001b[32m   (...)\u001b[39m\u001b[32m     27\u001b[39m \u001b[33;03mLicense along with pyo.  If not, see <http://www.gnu.org/licenses/>.\u001b[39;00m\n\u001b[32m     28\u001b[39m \u001b[33;03m\"\"\"\u001b[39;00m\n\u001b[32m---> \u001b[39m\u001b[32m30\u001b[39m \u001b[38;5;28;01mfrom\u001b[39;00m\u001b[38;5;250m \u001b[39m\u001b[34;01m.\u001b[39;00m\u001b[34;01m_core\u001b[39;00m\u001b[38;5;250m \u001b[39m\u001b[38;5;28;01mimport\u001b[39;00m *\n\u001b[32m     31\u001b[39m \u001b[38;5;28;01mfrom\u001b[39;00m\u001b[38;5;250m \u001b[39m\u001b[34;01m.\u001b[39;00m\u001b[34;01m_maps\u001b[39;00m\u001b[38;5;250m \u001b[39m\u001b[38;5;28;01mimport\u001b[39;00m *\n\u001b[32m     32\u001b[39m \u001b[38;5;28;01mfrom\u001b[39;00m\u001b[38;5;250m \u001b[39m\u001b[34;01m.\u001b[39;00m\u001b[34;01m_widgets\u001b[39;00m\u001b[38;5;250m \u001b[39m\u001b[38;5;28;01mimport\u001b[39;00m createSpectrumWindow, createScopeWindow\n",
      "\u001b[36mFile \u001b[39m\u001b[32m~/miniconda3/envs/rl-project/lib/python3.11/site-packages/pyo/lib/_core.py:47\u001b[39m\n\u001b[32m     45\u001b[39m     \u001b[38;5;28;01mimport\u001b[39;00m\u001b[38;5;250m \u001b[39m\u001b[34;01mpyo\u001b[39;00m\u001b[38;5;250m \u001b[39m\u001b[38;5;28;01mas\u001b[39;00m\u001b[38;5;250m \u001b[39m\u001b[34;01mcurrent_pyo\u001b[39;00m\n\u001b[32m     46\u001b[39m \u001b[38;5;28;01melse\u001b[39;00m:\n\u001b[32m---> \u001b[39m\u001b[32m47\u001b[39m     \u001b[38;5;28;01mfrom\u001b[39;00m\u001b[38;5;250m \u001b[39m\u001b[34;01m.\u001b[39;00m\u001b[34;01m.\u001b[39;00m\u001b[34;01m_pyo\u001b[39;00m\u001b[38;5;250m \u001b[39m\u001b[38;5;28;01mimport\u001b[39;00m *\n\u001b[32m     48\u001b[39m     \u001b[38;5;28;01mimport\u001b[39;00m\u001b[38;5;250m \u001b[39m\u001b[34;01mpyo\u001b[39;00m\u001b[38;5;250m \u001b[39m\u001b[38;5;28;01mas\u001b[39;00m\u001b[38;5;250m \u001b[39m\u001b[34;01mcurrent_pyo\u001b[39;00m\n\u001b[32m     50\u001b[39m \u001b[38;5;28;01mfrom\u001b[39;00m\u001b[38;5;250m \u001b[39m\u001b[34;01m.\u001b[39;00m\u001b[34;01m_maps\u001b[39;00m\u001b[38;5;250m \u001b[39m\u001b[38;5;28;01mimport\u001b[39;00m SLMap, SLMapMul\n",
      "\u001b[31mImportError\u001b[39m: dlopen(/Users/dannelllopez/miniconda3/envs/rl-project/lib/python3.11/site-packages/pyo/_pyo.cpython-311-darwin.so, 0x0002): Library not loaded: /opt/homebrew/opt/flac/lib/libFLAC.12.dylib\n  Referenced from: <E6408A3F-C3F8-30CD-906D-54CA42ADE3E5> /Users/dannelllopez/miniconda3/envs/rl-project/lib/python3.11/site-packages/pyo/libsndfile.1.dylib\n  Reason: tried: '/opt/homebrew/opt/flac/lib/libFLAC.12.dylib' (no such file), '/System/Volumes/Preboot/Cryptexes/OS/opt/homebrew/opt/flac/lib/libFLAC.12.dylib' (no such file), '/opt/homebrew/opt/flac/lib/libFLAC.12.dylib' (no such file), '/usr/local/lib/libFLAC.12.dylib' (no such file), '/usr/lib/libFLAC.12.dylib' (no such file, not in dyld cache), '/opt/homebrew/Cellar/flac/1.5.0/lib/libFLAC.12.dylib' (no such file), '/System/Volumes/Preboot/Cryptexes/OS/opt/homebrew/Cellar/flac/1.5.0/lib/libFLAC.12.dylib' (no such file), '/opt/homebrew/Cellar/flac/1.5.0/lib/libFLAC.12.dylib' (no such file), '/usr/local/lib/libFLAC.12.dylib' (no such file), '/usr/lib/libFLAC.12.dylib' (no such file, not in dyld cache)"
     ]
    }
   ],
   "source": [
    "from pathlib import Path\n",
    "import sys\n",
    "project_root = Path().resolve().parent\n",
    "sys.path.append(str(project_root))\n",
    "import guitarProject.input.guitar_input as gi\n",
    "\n",
    "\n",
    "guitar_input = gi.GuitarInputSequence()\n",
    "guitar_input.add_action(gi.GuitarAction(string=1, fret=0, action_type=gi.GuitarActionType.PICK, time=0.0))\n",
    "guitar_input.add_action(gi.GuitarAction(string=1, fret=0, action_type=gi.GuitarActionType.PICK, time=0.0))\n",
    "guitar_input.to_wav()"
   ]
  }
 ],
 "metadata": {
  "kernelspec": {
   "display_name": "rl-project",
   "language": "python",
   "name": "python3"
  },
  "language_info": {
   "codemirror_mode": {
    "name": "ipython",
    "version": 3
   },
   "file_extension": ".py",
   "mimetype": "text/x-python",
   "name": "python",
   "nbconvert_exporter": "python",
   "pygments_lexer": "ipython3",
   "version": "3.11.13"
  }
 },
 "nbformat": 4,
 "nbformat_minor": 5
}
