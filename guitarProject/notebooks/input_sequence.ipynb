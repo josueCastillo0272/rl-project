{
 "cells": [
  {
   "cell_type": "code",
   "execution_count": 6,
   "id": "120b47d3",
   "metadata": {},
   "outputs": [
    {
     "name": "stdout",
     "output_type": "stream",
     "text": [
      "Pyo message: Offline Server rendering file simple_guitar.wav dur=4.000000\n",
      "Pyo message: Offline Server rendering finished.\n",
      "Saved to simple_guitar.wav\n"
     ]
    }
   ],
   "source": [
    "from pathlib import Path\n",
    "import sys\n",
    "project_root = Path().resolve().parent\n",
    "sys.path.append(str(project_root))\n",
    "\n",
    "\n",
    "import input.guitar_input as gi\n",
    "\n",
    "\n",
    "guitar_input = gi.GuitarInputSequence()\n",
    "guitar_input = gi.GuitarInputSequence()\n",
    "guitar_input.add_action(gi.GuitarAction(string=1, fret=0, action_type=gi.GuitarActionType.PICK, time=0.0, velocity=0.7))\n",
    "guitar_input.add_action(gi.GuitarAction(string=2, fret=3, action_type=gi.GuitarActionType.PICK, time=0.5, velocity=0.8))\n",
    "guitar_input.add_action(gi.GuitarAction(string=3, fret=2, action_type=gi.GuitarActionType.PICK, time=1.0, velocity=0.6))\n",
    "\n",
    "guitar_input.to_wav()"
   ]
  }
 ],
 "metadata": {
  "kernelspec": {
   "display_name": "rl-new",
   "language": "python",
   "name": "python3"
  },
  "language_info": {
   "codemirror_mode": {
    "name": "ipython",
    "version": 3
   },
   "file_extension": ".py",
   "mimetype": "text/x-python",
   "name": "python",
   "nbconvert_exporter": "python",
   "pygments_lexer": "ipython3",
   "version": "3.13.5"
  }
 },
 "nbformat": 4,
 "nbformat_minor": 5
}
