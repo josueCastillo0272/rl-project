{
 "cells": [
  {
   "cell_type": "code",
   "execution_count": 35,
   "id": "168eaf73",
   "metadata": {},
   "outputs": [
    {
     "ename": "ModuleNotFoundError",
     "evalue": "No module named 'guitarProject'",
     "output_type": "error",
     "traceback": [
      "\u001b[31m---------------------------------------------------------------------------\u001b[39m",
      "\u001b[31mModuleNotFoundError\u001b[39m                       Traceback (most recent call last)",
      "\u001b[36mCell\u001b[39m\u001b[36m \u001b[39m\u001b[32mIn[35]\u001b[39m\u001b[32m, line 2\u001b[39m\n\u001b[32m      1\u001b[39m \u001b[38;5;28;01mfrom\u001b[39;00m\u001b[38;5;250m \u001b[39m\u001b[34;01mpathlib\u001b[39;00m\u001b[38;5;250m \u001b[39m\u001b[38;5;28;01mimport\u001b[39;00m Path\n\u001b[32m----> \u001b[39m\u001b[32m2\u001b[39m \u001b[38;5;28;01mfrom\u001b[39;00m\u001b[38;5;250m \u001b[39m\u001b[34;01mguitarProject\u001b[39;00m\u001b[34;01m.\u001b[39;00m\u001b[34;01mpreprocessing\u001b[39;00m\u001b[34;01m.\u001b[39;00m\u001b[34;01maudio\u001b[39;00m\u001b[38;5;250m \u001b[39m\u001b[38;5;28;01mimport\u001b[39;00m (load_wav_to_tensor,\n\u001b[32m      3\u001b[39m normalize_amplitude,\n\u001b[32m      4\u001b[39m pad_or_crop)\n\u001b[32m      6\u001b[39m \u001b[38;5;28;01mfrom\u001b[39;00m\u001b[38;5;250m \u001b[39m\u001b[34;01mguitarProject\u001b[39;00m\u001b[34;01m.\u001b[39;00m\u001b[34;01mpostprocessing\u001b[39;00m\u001b[34;01m.\u001b[39;00m\u001b[34;01mpostprocess\u001b[39;00m\u001b[38;5;250m \u001b[39m\u001b[38;5;28;01mimport\u001b[39;00m tensor_to_wav\n",
      "\u001b[31mModuleNotFoundError\u001b[39m: No module named 'guitarProject'"
     ]
    }
   ],
   "source": [
    "from pathlib import Path\n",
    "from guitarProject.preprocessing.audio import (load_wav_to_tensor,\n",
    "normalize_amplitude,\n",
    "pad_or_crop)\n",
    "\n",
    "from guitarProject.postprocessing.postprocess import tensor_to_wav"
   ]
  },
  {
   "cell_type": "code",
   "execution_count": 4,
   "id": "1027db2d",
   "metadata": {},
   "outputs": [
    {
     "ename": "NameError",
     "evalue": "name 'load_wav_to_tensor' is not defined",
     "output_type": "error",
     "traceback": [
      "\u001b[31m---------------------------------------------------------------------------\u001b[39m",
      "\u001b[31mNameError\u001b[39m                                 Traceback (most recent call last)",
      "\u001b[36mCell\u001b[39m\u001b[36m \u001b[39m\u001b[32mIn[4]\u001b[39m\u001b[32m, line 2\u001b[39m\n\u001b[32m      1\u001b[39m raw_path = Path(\u001b[33m\"\u001b[39m\u001b[33mdata/raw/c_note.wav\u001b[39m\u001b[33m\"\u001b[39m)\n\u001b[32m----> \u001b[39m\u001b[32m2\u001b[39m waveform = \u001b[43mload_wav_to_tensor\u001b[49m(\u001b[38;5;28mstr\u001b[39m(raw_path), sample_rate=\u001b[32m22050\u001b[39m)\n\u001b[32m      3\u001b[39m normalized = normalize_amplitude(waveform)\n\u001b[32m      4\u001b[39m padded = pad_or_crop(normalized, target_len=\u001b[32m22050\u001b[39m)\n",
      "\u001b[31mNameError\u001b[39m: name 'load_wav_to_tensor' is not defined"
     ]
    }
   ],
   "source": [
    "raw_path = Path(\"data/raw/c_note.wav\")\n",
    "waveform = load_wav_to_tensor(str(raw_path), sample_rate=22050)\n",
    "normalized = normalize_amplitude(waveform)\n",
    "padded = pad_or_crop(normalized, target_len=22050)"
   ]
  },
  {
   "cell_type": "code",
   "execution_count": 3,
   "id": "12b4ce7e",
   "metadata": {},
   "outputs": [
    {
     "name": "stdout",
     "output_type": "stream",
     "text": [
      "../guitarProject/data/processed/output.wav\n"
     ]
    }
   ],
   "source": [
    "out_path = Path(\"../guitarProject/data/processed/output.wav\")\n",
    "tensor_to_wav(padded, out_path)"
   ]
  }
 ],
 "metadata": {
  "kernelspec": {
   "display_name": "base",
   "language": "python",
   "name": "python3"
  },
  "language_info": {
   "codemirror_mode": {
    "name": "ipython",
    "version": 3
   },
   "file_extension": ".py",
   "mimetype": "text/x-python",
   "name": "python",
   "nbconvert_exporter": "python",
   "pygments_lexer": "ipython3",
   "version": "3.12.5"
  }
 },
 "nbformat": 4,
 "nbformat_minor": 5
}
