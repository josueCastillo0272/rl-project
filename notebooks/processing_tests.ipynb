{
 "cells": [
  {
   "cell_type": "code",
   "execution_count": 1,
   "id": "168eaf73",
   "metadata": {},
   "outputs": [
    {
     "name": "stderr",
     "output_type": "stream",
     "text": [
      "\u001b[32m2025-07-26 01:49:38.149\u001b[0m | \u001b[1mINFO    \u001b[0m | \u001b[36mguitarProject.config\u001b[0m:\u001b[36m<module>\u001b[0m:\u001b[36m11\u001b[0m - \u001b[1mPROJ_ROOT path is: /Users/josuec/Desktop/Coding/ML/rl-project\u001b[0m\n"
     ]
    }
   ],
   "source": [
    "from pathlib import Path\n",
    "import sys\n",
    "project_root = Path().resolve().parent\n",
    "sys.path.append(str(project_root))\n",
    "\n",
    "from guitarProject.preprocessing.audio import (load_wav_to_tensor,\n",
    "normalize_amplitude,\n",
    "pad_or_crop)\n",
    "\n",
    "from guitarProject.postprocessing.postprocess import tensor_to_wav"
   ]
  },
  {
   "cell_type": "code",
   "execution_count": 2,
   "id": "1027db2d",
   "metadata": {},
   "outputs": [],
   "source": [
    "raw_path = Path(\"data/raw/c_note.wav\")\n",
    "waveform = load_wav_to_tensor(str(raw_path), sample_rate=22050)\n",
    "normalized = normalize_amplitude(waveform)\n",
    "padded = pad_or_crop(normalized, target_len=22050)"
   ]
  },
  {
   "cell_type": "code",
   "execution_count": 3,
   "id": "12b4ce7e",
   "metadata": {},
   "outputs": [
    {
     "name": "stdout",
     "output_type": "stream",
     "text": [
      "../guitarProject/data/processed/output.wav\n"
     ]
    }
   ],
   "source": [
    "out_path = Path(\"../guitarProject/data/processed/output.wav\")\n",
    "tensor_to_wav(padded, out_path)"
   ]
  }
 ],
 "metadata": {
  "kernelspec": {
   "display_name": "rl-project",
   "language": "python",
   "name": "python3"
  },
  "language_info": {
   "codemirror_mode": {
    "name": "ipython",
    "version": 3
   },
   "file_extension": ".py",
   "mimetype": "text/x-python",
   "name": "python",
   "nbconvert_exporter": "python",
   "pygments_lexer": "ipython3",
   "version": "3.13.5"
  }
 },
 "nbformat": 4,
 "nbformat_minor": 5
}
